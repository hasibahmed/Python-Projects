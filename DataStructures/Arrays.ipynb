{
 "cells": [
  {
   "cell_type": "markdown",
   "metadata": {},
   "source": [
    "# Dynamic Arrays"
   ]
  },
  {
   "cell_type": "code",
   "execution_count": 5,
   "metadata": {},
   "outputs": [
    {
     "name": "stdout",
     "output_type": "stream",
     "text": [
      "Length of array: 0; Size in bytes: 64\n",
      "Length of array: 1; Size in bytes: 96\n",
      "Length of array: 2; Size in bytes: 96\n",
      "Length of array: 3; Size in bytes: 96\n",
      "Length of array: 4; Size in bytes: 96\n",
      "Length of array: 5; Size in bytes: 128\n",
      "Length of array: 6; Size in bytes: 128\n",
      "Length of array: 7; Size in bytes: 128\n",
      "Length of array: 8; Size in bytes: 128\n",
      "Length of array: 9; Size in bytes: 192\n",
      "Length of array: 10; Size in bytes: 192\n",
      "Length of array: 11; Size in bytes: 192\n",
      "Length of array: 12; Size in bytes: 192\n",
      "Length of array: 13; Size in bytes: 192\n",
      "Length of array: 14; Size in bytes: 192\n",
      "Length of array: 15; Size in bytes: 192\n",
      "Length of array: 16; Size in bytes: 192\n",
      "Length of array: 17; Size in bytes: 264\n",
      "Length of array: 18; Size in bytes: 264\n",
      "Length of array: 19; Size in bytes: 264\n",
      "Length of array: 20; Size in bytes: 264\n",
      "Length of array: 21; Size in bytes: 264\n",
      "Length of array: 22; Size in bytes: 264\n",
      "Length of array: 23; Size in bytes: 264\n",
      "Length of array: 24; Size in bytes: 264\n",
      "Length of array: 25; Size in bytes: 264\n",
      "Length of array: 26; Size in bytes: 344\n",
      "Length of array: 27; Size in bytes: 344\n",
      "Length of array: 28; Size in bytes: 344\n",
      "Length of array: 29; Size in bytes: 344\n",
      "Length of array: 30; Size in bytes: 344\n",
      "Length of array: 31; Size in bytes: 344\n",
      "Length of array: 32; Size in bytes: 344\n",
      "Length of array: 33; Size in bytes: 344\n",
      "Length of array: 34; Size in bytes: 344\n",
      "Length of array: 35; Size in bytes: 344\n",
      "Length of array: 36; Size in bytes: 432\n",
      "Length of array: 37; Size in bytes: 432\n",
      "Length of array: 38; Size in bytes: 432\n",
      "Length of array: 39; Size in bytes: 432\n",
      "Length of array: 40; Size in bytes: 432\n",
      "Length of array: 41; Size in bytes: 432\n",
      "Length of array: 42; Size in bytes: 432\n",
      "Length of array: 43; Size in bytes: 432\n",
      "Length of array: 44; Size in bytes: 432\n",
      "Length of array: 45; Size in bytes: 432\n",
      "Length of array: 46; Size in bytes: 432\n",
      "Length of array: 47; Size in bytes: 528\n",
      "Length of array: 48; Size in bytes: 528\n",
      "Length of array: 49; Size in bytes: 528\n"
     ]
    }
   ],
   "source": [
    "import sys\n",
    "\n",
    "n = 50\n",
    "array = []\n",
    "\n",
    "for i in range(n):\n",
    "    a = len(array)\n",
    "    b = sys.getsizeof(array)\n",
    "    array.append(n)\n",
    "    print(f'Length of array: {a}; Size in bytes: {b}')"
   ]
  },
  {
   "cell_type": "markdown",
   "metadata": {},
   "source": [
    "# Create a dynamic array"
   ]
  },
  {
   "cell_type": "code",
   "execution_count": 12,
   "metadata": {},
   "outputs": [],
   "source": [
    "import ctypes\n",
    "\n",
    "class DynamicArray(object):\n",
    "    '''\n",
    "    DYNAMIC ARRAY CLASS (Similar to Python List)\n",
    "    '''\n",
    "    \n",
    "    def __init__(self):\n",
    "        self.n = 0 # Count actual elements (Default is 0)\n",
    "        self.capacity = 1 # Default Capacity\n",
    "        self.A = self.make_array(self.capacity)\n",
    "        \n",
    "    def __len__(self):\n",
    "        \"\"\"\n",
    "        Return number of elements sorted in array\n",
    "        \"\"\"\n",
    "        return self.n\n",
    "    \n",
    "    def __getitem__(self,k):\n",
    "        \"\"\"\n",
    "        Return element at index k\n",
    "        \"\"\"\n",
    "        if not 0 <= k <self.n:\n",
    "            return IndexError('K is out of bounds!') # Check it k index is in bounds of array\n",
    "        \n",
    "        return self.A[k] #Retrieve from array at index k\n",
    "        \n",
    "    def append(self, ele):\n",
    "        \"\"\"\n",
    "        Add element to end of the array\n",
    "        \"\"\"\n",
    "        if self.n == self.capacity:\n",
    "            self._resize(2*self.capacity) #Double capacity if not enough room\n",
    "        \n",
    "        self.A[self.n] = ele #Set self.n index to element\n",
    "        self.n += 1\n",
    "        \n",
    "    def _resize(self,new_cap):\n",
    "        \"\"\"\n",
    "        Resize internal array to capacity new_cap\n",
    "        \"\"\"\n",
    "        \n",
    "        B = self.make_array(new_cap) # New bigger array\n",
    "        \n",
    "        for k in range(self.n): # Reference all existing values\n",
    "            B[k] = self.A[k]\n",
    "            \n",
    "        self.A = B # Call A the new bigger array\n",
    "        self.capacity = new_cap # Reset the capacity\n",
    "        \n",
    "    def make_array(self,new_cap):\n",
    "        \"\"\"\n",
    "        Returns a new array with new_cap capacity\n",
    "        \"\"\"\n",
    "        return (new_cap * ctypes.py_object)()"
   ]
  },
  {
   "cell_type": "code",
   "execution_count": 13,
   "metadata": {},
   "outputs": [
    {
     "name": "stdout",
     "output_type": "stream",
     "text": [
      "Length of array: 0; Size in bytes: 56\n",
      "Length of array: 1; Size in bytes: 56\n",
      "Length of array: 2; Size in bytes: 56\n",
      "Length of array: 3; Size in bytes: 56\n",
      "Length of array: 4; Size in bytes: 56\n",
      "Length of array: 5; Size in bytes: 56\n",
      "Length of array: 6; Size in bytes: 56\n",
      "Length of array: 7; Size in bytes: 56\n",
      "Length of array: 8; Size in bytes: 56\n",
      "Length of array: 9; Size in bytes: 56\n",
      "Length of array: 10; Size in bytes: 56\n",
      "Length of array: 11; Size in bytes: 56\n",
      "Length of array: 12; Size in bytes: 56\n",
      "Length of array: 13; Size in bytes: 56\n",
      "Length of array: 14; Size in bytes: 56\n",
      "Length of array: 15; Size in bytes: 56\n",
      "Length of array: 16; Size in bytes: 56\n",
      "Length of array: 17; Size in bytes: 56\n",
      "Length of array: 18; Size in bytes: 56\n",
      "Length of array: 19; Size in bytes: 56\n",
      "Length of array: 20; Size in bytes: 56\n",
      "Length of array: 21; Size in bytes: 56\n",
      "Length of array: 22; Size in bytes: 56\n",
      "Length of array: 23; Size in bytes: 56\n",
      "Length of array: 24; Size in bytes: 56\n",
      "Length of array: 25; Size in bytes: 56\n",
      "Length of array: 26; Size in bytes: 56\n",
      "Length of array: 27; Size in bytes: 56\n",
      "Length of array: 28; Size in bytes: 56\n",
      "Length of array: 29; Size in bytes: 56\n",
      "Length of array: 30; Size in bytes: 56\n",
      "Length of array: 31; Size in bytes: 56\n",
      "Length of array: 32; Size in bytes: 56\n",
      "Length of array: 33; Size in bytes: 56\n",
      "Length of array: 34; Size in bytes: 56\n",
      "Length of array: 35; Size in bytes: 56\n",
      "Length of array: 36; Size in bytes: 56\n",
      "Length of array: 37; Size in bytes: 56\n",
      "Length of array: 38; Size in bytes: 56\n",
      "Length of array: 39; Size in bytes: 56\n",
      "Length of array: 40; Size in bytes: 56\n",
      "Length of array: 41; Size in bytes: 56\n",
      "Length of array: 42; Size in bytes: 56\n",
      "Length of array: 43; Size in bytes: 56\n",
      "Length of array: 44; Size in bytes: 56\n",
      "Length of array: 45; Size in bytes: 56\n",
      "Length of array: 46; Size in bytes: 56\n",
      "Length of array: 47; Size in bytes: 56\n",
      "Length of array: 48; Size in bytes: 56\n",
      "Length of array: 49; Size in bytes: 56\n"
     ]
    }
   ],
   "source": [
    "import sys\n",
    "\n",
    "array = DynamicArray()\n",
    "n = 50\n",
    "\n",
    "for i in range(n):\n",
    "    a = len(array)\n",
    "    b = sys.getsizeof(array)\n",
    "    array.append(n)\n",
    "    print(f'Length of array: {a}; Size in bytes: {b}')"
   ]
  },
  {
   "cell_type": "markdown",
   "metadata": {},
   "source": [
    "# Anargram check"
   ]
  },
  {
   "cell_type": "code",
   "execution_count": 20,
   "metadata": {},
   "outputs": [],
   "source": [
    "s1 = 'quick brown fox jumps over the lazy dog'"
   ]
  },
  {
   "cell_type": "code",
   "execution_count": 21,
   "metadata": {},
   "outputs": [],
   "source": [
    "s2 = 'damn you fool'"
   ]
  },
  {
   "cell_type": "code",
   "execution_count": 45,
   "metadata": {},
   "outputs": [],
   "source": [
    "def anagram(s1, s2):\n",
    "    s1 = s1.replace(' ', '').lower()\n",
    "    s2 = s2.replace(' ', '').lower()\n",
    "    \n",
    "    print(f'leng of s1: {len(s1)}')\n",
    "    print(f'leng of s2: {len(s2)}')\n",
    "    \n",
    "    \n",
    "    # edge case check\n",
    "    if not len(s1)  == len(s2):\n",
    "        return False\n",
    "    \n",
    "    # count the frequency\n",
    "    \n",
    "    count = {}\n",
    "    \n",
    "    for letter in s1:\n",
    "        if letter in count:\n",
    "            count[letter] += 1\n",
    "        else:\n",
    "            count[letter] = 1\n",
    "    print(count)\n",
    "            \n",
    "    for letter in s2:\n",
    "        if letter in count:\n",
    "            count[letter] -=1\n",
    "        else:\n",
    "            count[letter] = 1\n",
    "    print(count)\n",
    "            \n",
    "    for k in count:\n",
    "        if not count[k] == 0:\n",
    "            return False\n",
    "    \n",
    "    return True\n",
    "        "
   ]
  },
  {
   "cell_type": "code",
   "execution_count": 46,
   "metadata": {},
   "outputs": [
    {
     "name": "stdout",
     "output_type": "stream",
     "text": [
      "leng of s1: 11\n",
      "leng of s2: 11\n",
      "{'d': 1, 'a': 1, 'm': 1, 'n': 1, 'y': 1, 'o': 3, 'u': 1, 'f': 1, 'l': 1}\n",
      "{'d': 0, 'a': 0, 'm': 0, 'n': 0, 'y': 0, 'o': 0, 'u': 0, 'f': 0, 'l': 0}\n"
     ]
    },
    {
     "data": {
      "text/plain": [
       "True"
      ]
     },
     "execution_count": 46,
     "metadata": {},
     "output_type": "execute_result"
    }
   ],
   "source": [
    "anagram(s2,s2)"
   ]
  },
  {
   "cell_type": "code",
   "execution_count": 40,
   "metadata": {},
   "outputs": [
    {
     "data": {
      "text/plain": [
       "False"
      ]
     },
     "execution_count": 40,
     "metadata": {},
     "output_type": "execute_result"
    }
   ],
   "source": [
    "anagram(s1,s2)"
   ]
  },
  {
   "cell_type": "code",
   "execution_count": 41,
   "metadata": {},
   "outputs": [
    {
     "name": "stdout",
     "output_type": "stream",
     "text": [
      "{'q': 1, 'u': 2, 'i': 1, 'c': 1, 'k': 1, 'b': 1, 'r': 2, 'o': 4, 'w': 1, 'n': 1, 'f': 1, 'x': 1, 'j': 1, 'm': 1, 'p': 1, 's': 1, 'v': 1, 'e': 2, 't': 1, 'h': 1, 'l': 1, 'a': 1, 'z': 1, 'y': 1, 'd': 1, 'g': 1}\n",
      "{'q': 0, 'u': 0, 'i': 0, 'c': 0, 'k': 0, 'b': 0, 'r': 0, 'o': 0, 'w': 0, 'n': 0, 'f': 0, 'x': 0, 'j': 0, 'm': 0, 'p': 0, 's': 0, 'v': 0, 'e': 0, 't': 0, 'h': 0, 'l': 0, 'a': 0, 'z': 0, 'y': 0, 'd': 0, 'g': 0}\n"
     ]
    },
    {
     "data": {
      "text/plain": [
       "True"
      ]
     },
     "execution_count": 41,
     "metadata": {},
     "output_type": "execute_result"
    }
   ],
   "source": [
    "anagram(s1,s1)"
   ]
  },
  {
   "cell_type": "code",
   "execution_count": 48,
   "metadata": {},
   "outputs": [
    {
     "name": "stdout",
     "output_type": "stream",
     "text": [
      "leng of s1: 13\n",
      "leng of s2: 13\n",
      "{'c': 1, 'l': 1, 'i': 1, 'n': 1, 't': 2, 'e': 1, 'a': 1, 's': 1, 'w': 1, 'o': 2, 'd': 1}\n",
      "{'c': 0, 'l': 0, 'i': 0, 'n': 0, 't': 0, 'e': 0, 'a': 0, 's': 0, 'w': 0, 'o': 0, 'd': 0}\n"
     ]
    },
    {
     "data": {
      "text/plain": [
       "True"
      ]
     },
     "execution_count": 48,
     "metadata": {},
     "output_type": "execute_result"
    }
   ],
   "source": [
    "anagram('clint eastwood', 'old west action')"
   ]
  },
  {
   "cell_type": "markdown",
   "metadata": {},
   "source": [
    "# Array pair sum\n"
   ]
  },
  {
   "cell_type": "markdown",
   "metadata": {},
   "source": [
    "given an integer array, output all the unique pairs that sum up to a specific value k. "
   ]
  },
  {
   "cell_type": "code",
   "execution_count": 52,
   "metadata": {},
   "outputs": [],
   "source": [
    "def pair_sum(arr, k):\n",
    "    \n",
    "    # edge case\n",
    "    if len(arr) < 2:\n",
    "        return\n",
    "    \n",
    "    # sets for tracking\n",
    "    seen = set()\n",
    "    output = set()\n",
    "    \n",
    "    for num in arr:\n",
    "        target = k-num\n",
    "        \n",
    "        if target not in seen:\n",
    "            seen.add(num)\n",
    "        else:\n",
    "            output.add((min(num,target), max(num,target)))\n",
    "    print(output)\n",
    "    return len(output)"
   ]
  },
  {
   "cell_type": "code",
   "execution_count": 54,
   "metadata": {},
   "outputs": [
    {
     "name": "stdout",
     "output_type": "stream",
     "text": [
      "{(2, 2)}\n"
     ]
    },
    {
     "data": {
      "text/plain": [
       "1"
      ]
     },
     "execution_count": 54,
     "metadata": {},
     "output_type": "execute_result"
    }
   ],
   "source": [
    "pair_sum([2,2,2,2], 4)"
   ]
  },
  {
   "cell_type": "code",
   "execution_count": 64,
   "metadata": {},
   "outputs": [],
   "source": [
    "def pair_sum_brute(arr, k):\n",
    "    \n",
    "    output = set()\n",
    "    for i in range(0, len(arr)):\n",
    "        for j in range(i+1, len(arr)):\n",
    "            if arr[i] + arr[j] == k:\n",
    "                output.add((arr[i], arr[j]))\n",
    "    print(output)\n",
    "                "
   ]
  },
  {
   "cell_type": "code",
   "execution_count": 65,
   "metadata": {},
   "outputs": [
    {
     "name": "stdout",
     "output_type": "stream",
     "text": [
      "{(3, 1), (2, 2)}\n"
     ]
    }
   ],
   "source": [
    "pair_sum_brute([2,3,1,2], 4)"
   ]
  },
  {
   "cell_type": "markdown",
   "metadata": {},
   "source": [
    "# Find the missing element"
   ]
  },
  {
   "cell_type": "code",
   "execution_count": 67,
   "metadata": {},
   "outputs": [],
   "source": [
    "def finder(arr1, arr2):\n",
    "    # consider no duplicates\n",
    "    # O(nlogn)\n",
    "    \n",
    "    arr1.sort()\n",
    "    arr2.sort()\n",
    "    \n",
    "    for num1, num2 in zip(arr1, arr2):\n",
    "        if not num1 == num2:\n",
    "            return num1\n",
    "    return arr1[-1]"
   ]
  },
  {
   "cell_type": "code",
   "execution_count": 68,
   "metadata": {},
   "outputs": [],
   "source": [
    "import collections"
   ]
  },
  {
   "cell_type": "code",
   "execution_count": 69,
   "metadata": {},
   "outputs": [],
   "source": [
    "def finder2(arr1, arr2):\n",
    "    d = collections.defaultdict(int)\n",
    "    \n",
    "    for num in arr2:\n",
    "        d[num] += 1\n",
    "        \n",
    "    for num in arr1:\n",
    "        if d[num] == 0:\n",
    "            return num\n",
    "        else:\n",
    "            d[num] -= 1"
   ]
  },
  {
   "cell_type": "code",
   "execution_count": 70,
   "metadata": {},
   "outputs": [],
   "source": [
    "arr1 = [1,2,4,5,6]\n",
    "arr2 = [6,2,1,4]"
   ]
  },
  {
   "cell_type": "code",
   "execution_count": 71,
   "metadata": {},
   "outputs": [
    {
     "data": {
      "text/plain": [
       "5"
      ]
     },
     "execution_count": 71,
     "metadata": {},
     "output_type": "execute_result"
    }
   ],
   "source": [
    "finder(arr1, arr2)"
   ]
  },
  {
   "cell_type": "code",
   "execution_count": 72,
   "metadata": {},
   "outputs": [
    {
     "data": {
      "text/plain": [
       "5"
      ]
     },
     "execution_count": 72,
     "metadata": {},
     "output_type": "execute_result"
    }
   ],
   "source": [
    "finder2(arr1, arr2)"
   ]
  },
  {
   "cell_type": "code",
   "execution_count": 76,
   "metadata": {},
   "outputs": [],
   "source": [
    "a = 0"
   ]
  },
  {
   "cell_type": "code",
   "execution_count": 77,
   "metadata": {},
   "outputs": [],
   "source": [
    "a^=5"
   ]
  },
  {
   "cell_type": "code",
   "execution_count": 78,
   "metadata": {},
   "outputs": [
    {
     "data": {
      "text/plain": [
       "5"
      ]
     },
     "execution_count": 78,
     "metadata": {},
     "output_type": "execute_result"
    }
   ],
   "source": [
    "a"
   ]
  },
  {
   "cell_type": "code",
   "execution_count": 79,
   "metadata": {},
   "outputs": [],
   "source": [
    "a^=5"
   ]
  },
  {
   "cell_type": "code",
   "execution_count": 80,
   "metadata": {},
   "outputs": [
    {
     "data": {
      "text/plain": [
       "0"
      ]
     },
     "execution_count": 80,
     "metadata": {},
     "output_type": "execute_result"
    }
   ],
   "source": [
    "a"
   ]
  },
  {
   "cell_type": "code",
   "execution_count": 81,
   "metadata": {},
   "outputs": [],
   "source": [
    "a^=2"
   ]
  },
  {
   "cell_type": "code",
   "execution_count": 82,
   "metadata": {},
   "outputs": [
    {
     "data": {
      "text/plain": [
       "2"
      ]
     },
     "execution_count": 82,
     "metadata": {},
     "output_type": "execute_result"
    }
   ],
   "source": [
    "a"
   ]
  },
  {
   "cell_type": "code",
   "execution_count": 83,
   "metadata": {},
   "outputs": [],
   "source": [
    "a^=1"
   ]
  },
  {
   "cell_type": "code",
   "execution_count": 84,
   "metadata": {},
   "outputs": [
    {
     "data": {
      "text/plain": [
       "3"
      ]
     },
     "execution_count": 84,
     "metadata": {},
     "output_type": "execute_result"
    }
   ],
   "source": [
    "a"
   ]
  },
  {
   "cell_type": "code",
   "execution_count": 85,
   "metadata": {},
   "outputs": [],
   "source": [
    "a^=4"
   ]
  },
  {
   "cell_type": "code",
   "execution_count": 86,
   "metadata": {},
   "outputs": [
    {
     "data": {
      "text/plain": [
       "7"
      ]
     },
     "execution_count": 86,
     "metadata": {},
     "output_type": "execute_result"
    }
   ],
   "source": [
    "a"
   ]
  },
  {
   "cell_type": "code",
   "execution_count": 87,
   "metadata": {},
   "outputs": [],
   "source": [
    "a^=3"
   ]
  },
  {
   "cell_type": "code",
   "execution_count": 88,
   "metadata": {},
   "outputs": [
    {
     "data": {
      "text/plain": [
       "4"
      ]
     },
     "execution_count": 88,
     "metadata": {},
     "output_type": "execute_result"
    }
   ],
   "source": [
    "a\n"
   ]
  },
  {
   "cell_type": "code",
   "execution_count": 89,
   "metadata": {},
   "outputs": [],
   "source": [
    "a^=9"
   ]
  },
  {
   "cell_type": "code",
   "execution_count": 90,
   "metadata": {},
   "outputs": [
    {
     "data": {
      "text/plain": [
       "13"
      ]
     },
     "execution_count": 90,
     "metadata": {},
     "output_type": "execute_result"
    }
   ],
   "source": [
    "a"
   ]
  },
  {
   "cell_type": "code",
   "execution_count": 91,
   "metadata": {},
   "outputs": [],
   "source": [
    "a^=1"
   ]
  },
  {
   "cell_type": "code",
   "execution_count": 92,
   "metadata": {},
   "outputs": [
    {
     "data": {
      "text/plain": [
       "12"
      ]
     },
     "execution_count": 92,
     "metadata": {},
     "output_type": "execute_result"
    }
   ],
   "source": [
    "a"
   ]
  },
  {
   "cell_type": "code",
   "execution_count": 94,
   "metadata": {},
   "outputs": [],
   "source": [
    "def finder3(arr1, arr2): \n",
    "    result=0 \n",
    "    \n",
    "    # Perform an XOR between the numbers in the arrays\n",
    "    for num in arr1+arr2: \n",
    "        result^=num \n",
    "        print (result)\n",
    "        \n",
    "    return result "
   ]
  },
  {
   "cell_type": "code",
   "execution_count": 104,
   "metadata": {},
   "outputs": [],
   "source": [
    "x=20\n",
    "y=4"
   ]
  },
  {
   "cell_type": "code",
   "execution_count": 105,
   "metadata": {},
   "outputs": [],
   "source": [
    "y^=x"
   ]
  },
  {
   "cell_type": "code",
   "execution_count": 106,
   "metadata": {},
   "outputs": [
    {
     "data": {
      "text/plain": [
       "16"
      ]
     },
     "execution_count": 106,
     "metadata": {},
     "output_type": "execute_result"
    }
   ],
   "source": [
    "y"
   ]
  },
  {
   "cell_type": "code",
   "execution_count": 107,
   "metadata": {},
   "outputs": [
    {
     "data": {
      "text/plain": [
       "20"
      ]
     },
     "execution_count": 107,
     "metadata": {},
     "output_type": "execute_result"
    }
   ],
   "source": [
    "x"
   ]
  },
  {
   "cell_type": "code",
   "execution_count": 103,
   "metadata": {},
   "outputs": [
    {
     "data": {
      "text/plain": [
       "16"
      ]
     },
     "execution_count": 103,
     "metadata": {},
     "output_type": "execute_result"
    }
   ],
   "source": [
    "y^x"
   ]
  },
  {
   "cell_type": "code",
   "execution_count": 96,
   "metadata": {},
   "outputs": [
    {
     "data": {
      "text/plain": [
       "16"
      ]
     },
     "execution_count": 96,
     "metadata": {},
     "output_type": "execute_result"
    }
   ],
   "source": [
    "x^y"
   ]
  },
  {
   "cell_type": "code",
   "execution_count": 97,
   "metadata": {},
   "outputs": [],
   "source": [
    "x^=y"
   ]
  },
  {
   "cell_type": "code",
   "execution_count": 98,
   "metadata": {},
   "outputs": [
    {
     "data": {
      "text/plain": [
       "16"
      ]
     },
     "execution_count": 98,
     "metadata": {},
     "output_type": "execute_result"
    }
   ],
   "source": [
    "x"
   ]
  },
  {
   "cell_type": "code",
   "execution_count": 100,
   "metadata": {},
   "outputs": [],
   "source": [
    "y^=x"
   ]
  },
  {
   "cell_type": "code",
   "execution_count": 101,
   "metadata": {},
   "outputs": [
    {
     "data": {
      "text/plain": [
       "4"
      ]
     },
     "execution_count": 101,
     "metadata": {},
     "output_type": "execute_result"
    }
   ],
   "source": [
    "y"
   ]
  },
  {
   "cell_type": "markdown",
   "metadata": {},
   "source": [
    "# Largest continuous sum"
   ]
  },
  {
   "cell_type": "code",
   "execution_count": 1,
   "metadata": {},
   "outputs": [],
   "source": [
    "def large_cont_sum(arr):\n",
    "    \n",
    "    if len(arr) == 0:\n",
    "        return 0\n",
    "    \n",
    "    max_sum = current_sum = arr[0]\n",
    "    \n",
    "    for num in arr[1:]:\n",
    "        current_sum = max(current_sum+num, num)\n",
    "        print(f'current sum: {current_sum}')\n",
    "        max_sum = max(current_sum, max_sum)\n",
    "        print(f'max sum: {max_sum}')\n",
    "        \n",
    "    return max_sum"
   ]
  },
  {
   "cell_type": "code",
   "execution_count": 3,
   "metadata": {},
   "outputs": [
    {
     "name": "stdout",
     "output_type": "stream",
     "text": [
      "current sum: 5\n",
      "max sum: 5\n",
      "current sum: -5\n",
      "max sum: 5\n",
      "current sum: 9\n",
      "max sum: 9\n",
      "current sum: 11\n",
      "max sum: 11\n"
     ]
    },
    {
     "data": {
      "text/plain": [
       "11"
      ]
     },
     "execution_count": 3,
     "metadata": {},
     "output_type": "execute_result"
    }
   ],
   "source": [
    "large_cont_sum([2,3,-10,9,2])"
   ]
  },
  {
   "cell_type": "code",
   "execution_count": 4,
   "metadata": {},
   "outputs": [
    {
     "name": "stdout",
     "output_type": "stream",
     "text": [
      "current sum: 4\n",
      "max sum: 4\n",
      "current sum: -6\n",
      "max sum: 4\n",
      "current sum: 4\n",
      "max sum: 4\n",
      "current sum: 13\n",
      "max sum: 13\n",
      "current sum: 5\n",
      "max sum: 13\n",
      "current sum: 7\n",
      "max sum: 13\n",
      "current sum: 12\n",
      "max sum: 13\n",
      "current sum: 21\n",
      "max sum: 21\n"
     ]
    },
    {
     "data": {
      "text/plain": [
       "21"
      ]
     },
     "execution_count": 4,
     "metadata": {},
     "output_type": "execute_result"
    }
   ],
   "source": [
    "large_cont_sum([-2, 4, -10, 4, 9, -8, 2, 5 , 9])"
   ]
  },
  {
   "cell_type": "markdown",
   "metadata": {},
   "source": [
    "# Sentence reversal "
   ]
  },
  {
   "cell_type": "code",
   "execution_count": 150,
   "metadata": {},
   "outputs": [],
   "source": [
    "def reverse_sentence(s):\n",
    "    words = []\n",
    "    reverse = []\n",
    "    i = 0\n",
    "    space = ' '\n",
    "    \n",
    "    while i < len(s):\n",
    "        # get the first index of a word\n",
    "        if not s[i] == space:\n",
    "            word_start = i\n",
    "            \n",
    "            # increase the index until you hit a space\n",
    "            while i < len(s) and not s[i] == space:\n",
    "                i += 1\n",
    "#                 print('inside 2nd while')\n",
    "                \n",
    "            # if there is a space\n",
    "            words.append(s[word_start:i])\n",
    "             \n",
    "        i +=1\n",
    "        \n",
    "#     print(words)\n",
    "    \n",
    "    for _ in range(len(words)):\n",
    "        reverse.append(words.pop())\n",
    "        \n",
    "    return ' '.join(reverse)\n",
    "        \n",
    "            \n",
    "        \n",
    "        "
   ]
  },
  {
   "cell_type": "code",
   "execution_count": 151,
   "metadata": {},
   "outputs": [
    {
     "name": "stdout",
     "output_type": "stream",
     "text": [
      "['Hello', 'John', 'how', 'are', 'you']\n"
     ]
    },
    {
     "data": {
      "text/plain": [
       "'you are how John Hello'"
      ]
     },
     "execution_count": 151,
     "metadata": {},
     "output_type": "execute_result"
    }
   ],
   "source": [
    "reverse_sentence('  Hello John how are you ')"
   ]
  },
  {
   "cell_type": "markdown",
   "metadata": {},
   "source": [
    "# String Compression"
   ]
  },
  {
   "cell_type": "code",
   "execution_count": 10,
   "metadata": {},
   "outputs": [],
   "source": [
    "def compress(s):\n",
    "    r = ''\n",
    "    l = len(s)\n",
    "    \n",
    "    if l == 0:\n",
    "        return ''\n",
    "    if l == 1:\n",
    "        return s+'1'\n",
    "    \n",
    "    i = 1\n",
    "    cnt = 1\n",
    "    \n",
    "    while i < l:\n",
    "        if s[i] == s[i-1]:\n",
    "            cnt += 1\n",
    "        else:\n",
    "            r = r + s[i-1]+ str(cnt)\n",
    "            cnt = 1\n",
    "            print(r)\n",
    "            \n",
    "        i += 1\n",
    "    \n",
    "    # for the last letter\n",
    "    r = r + s[i-1] + str(cnt)\n",
    "    \n",
    "    return r"
   ]
  },
  {
   "cell_type": "code",
   "execution_count": 11,
   "metadata": {},
   "outputs": [
    {
     "name": "stdout",
     "output_type": "stream",
     "text": [
      "A2\n"
     ]
    },
    {
     "data": {
      "text/plain": [
       "'A2B3'"
      ]
     },
     "execution_count": 11,
     "metadata": {},
     "output_type": "execute_result"
    }
   ],
   "source": [
    "compress('AABBB')"
   ]
  },
  {
   "cell_type": "markdown",
   "metadata": {},
   "source": [
    "# Stock price"
   ]
  },
  {
   "cell_type": "code",
   "execution_count": 22,
   "metadata": {},
   "outputs": [],
   "source": [
    "def profit(stock_prices):\n",
    "    \n",
    "    if len(stock_prices) < 2:\n",
    "        return \"Hey I need more prices!\"\n",
    "    \n",
    "    min_stock_price = stock_prices[0]\n",
    "    \n",
    "    max_profit = 0 \n",
    "    min_index = 0\n",
    "    max_index = 0\n",
    "    \n",
    "    for index, price in enumerate(stock_prices):\n",
    "        \n",
    "        if price < min_stock_price:\n",
    "            min_index = index\n",
    "        min_stock_price = min(min_stock_price,price)\n",
    "        \n",
    "        \n",
    "        comparison_profit = price - min_stock_price\n",
    "        \n",
    "        if comparison_profit > max_profit:\n",
    "            max_index = index\n",
    "        max_profit = max(max_profit,comparison_profit)\n",
    "        \n",
    "        \n",
    "        \n",
    "    return (min_index, max_index)"
   ]
  },
  {
   "cell_type": "code",
   "execution_count": 23,
   "metadata": {},
   "outputs": [
    {
     "data": {
      "text/plain": [
       "(2, 3)"
      ]
     },
     "execution_count": 23,
     "metadata": {},
     "output_type": "execute_result"
    }
   ],
   "source": [
    "profit([6,13,2,10,3,5])"
   ]
  },
  {
   "cell_type": "code",
   "execution_count": null,
   "metadata": {},
   "outputs": [],
   "source": []
  }
 ],
 "metadata": {
  "kernelspec": {
   "display_name": "Python 3",
   "language": "python",
   "name": "python3"
  },
  "language_info": {
   "codemirror_mode": {
    "name": "ipython",
    "version": 3
   },
   "file_extension": ".py",
   "mimetype": "text/x-python",
   "name": "python",
   "nbconvert_exporter": "python",
   "pygments_lexer": "ipython3",
   "version": "3.7.0"
  }
 },
 "nbformat": 4,
 "nbformat_minor": 2
}
