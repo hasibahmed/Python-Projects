{
 "cells": [
  {
   "cell_type": "code",
   "execution_count": 3,
   "metadata": {},
   "outputs": [],
   "source": [
    "def fact(n):\n",
    "    '''\n",
    "    Returns factorial of n (n!).\n",
    "    Note use of recursion\n",
    "    '''\n",
    "    # BASE CASE!\n",
    "    if n == 0:\n",
    "        return 1\n",
    "    \n",
    "    # Recursion!\n",
    "    else:\n",
    "        return n * fact(n-1)"
   ]
  },
  {
   "cell_type": "code",
   "execution_count": 4,
   "metadata": {},
   "outputs": [
    {
     "data": {
      "text/plain": [
       "120"
      ]
     },
     "execution_count": 4,
     "metadata": {},
     "output_type": "execute_result"
    }
   ],
   "source": [
    "fact(5)"
   ]
  },
  {
   "cell_type": "code",
   "execution_count": 2,
   "metadata": {},
   "outputs": [
    {
     "data": {
      "text/html": [
       "<img src=\"http://faculty.cs.niu.edu/~freedman/241/241notes/recur.gif\"/>"
      ],
      "text/plain": [
       "<IPython.core.display.Image object>"
      ]
     },
     "execution_count": 2,
     "metadata": {},
     "output_type": "execute_result"
    }
   ],
   "source": [
    "from IPython.display import Image\n",
    "from IPython.core.display import HTML \n",
    "Image(url= 'http://faculty.cs.niu.edu/~freedman/241/241notes/recur.gif')"
   ]
  },
  {
   "cell_type": "markdown",
   "metadata": {},
   "source": [
    "# cumulative sum from 0 to n"
   ]
  },
  {
   "cell_type": "code",
   "execution_count": 7,
   "metadata": {},
   "outputs": [],
   "source": [
    "def csum(n):\n",
    "    \n",
    "    if n == 0:\n",
    "        return 0\n",
    "    else:\n",
    "        return n + csum(n-1)"
   ]
  },
  {
   "cell_type": "code",
   "execution_count": 8,
   "metadata": {},
   "outputs": [
    {
     "data": {
      "text/plain": [
       "10"
      ]
     },
     "execution_count": 8,
     "metadata": {},
     "output_type": "execute_result"
    }
   ],
   "source": [
    "csum(4)"
   ]
  },
  {
   "cell_type": "markdown",
   "metadata": {},
   "source": [
    "# sum of the digits in a integer"
   ]
  },
  {
   "cell_type": "code",
   "execution_count": 19,
   "metadata": {},
   "outputs": [],
   "source": [
    "def sum_int(n):\n",
    "    \n",
    "    if len(str(n)) == 1:\n",
    "        return n\n",
    "    else:\n",
    "        return n%10 + sum_int(int(n/10))"
   ]
  },
  {
   "cell_type": "code",
   "execution_count": 20,
   "metadata": {},
   "outputs": [
    {
     "data": {
      "text/plain": [
       "10"
      ]
     },
     "execution_count": 20,
     "metadata": {},
     "output_type": "execute_result"
    }
   ],
   "source": [
    "sum_int(1234)"
   ]
  },
  {
   "cell_type": "markdown",
   "metadata": {},
   "source": [
    "Create a function called word_split() which takes in a string phrase and a set list_of_words. The function will then determine if it is possible to split the string in a way in which words can be made from the list of words. You can assume the phrase will only contain words found in the dictionary if it is completely splittable.\n"
   ]
  },
  {
   "cell_type": "code",
   "execution_count": 21,
   "metadata": {},
   "outputs": [],
   "source": [
    "def word_spilt(pharse, list_of_words, output=None):\n",
    "    if output is None:\n",
    "        output = []\n",
    "        \n",
    "    pass"
   ]
  },
  {
   "cell_type": "code",
   "execution_count": 22,
   "metadata": {},
   "outputs": [],
   "source": [
    "phase = 'needtousetherestroom'"
   ]
  },
  {
   "cell_type": "code",
   "execution_count": 24,
   "metadata": {},
   "outputs": [
    {
     "data": {
      "text/plain": [
       "True"
      ]
     },
     "execution_count": 24,
     "metadata": {},
     "output_type": "execute_result"
    }
   ],
   "source": [
    "phase.startswith('need')"
   ]
  },
  {
   "cell_type": "code",
   "execution_count": 27,
   "metadata": {},
   "outputs": [],
   "source": [
    "def word_split(phrase,list_of_words, output = None):\n",
    "    '''\n",
    "    Note: This is a very \"python-y\" solution.\n",
    "    ''' \n",
    "    \n",
    "    # Checks to see if any output has been initiated.\n",
    "    # If you default output=[], it would be overwritten for every recursion!\n",
    "    if output is None:\n",
    "        output = []\n",
    "    \n",
    "    # For every word in list\n",
    "    for word in list_of_words:\n",
    "        print(word)\n",
    "        \n",
    "        # If the current phrase begins with the word, we have a split point!\n",
    "        if phrase.startswith(word):\n",
    "            \n",
    "            # Add the word to the output\n",
    "            output.append(word)\n",
    "            \n",
    "            # Recursively call the split function on the remaining portion of the phrase--- phrase[len(word):]\n",
    "            # Remember to pass along the output and list of words\n",
    "            return word_split(phrase[len(word):],list_of_words,output)\n",
    "    \n",
    "    # Finally return output if no phrase.startswith(word) returns True\n",
    "    return output        "
   ]
  },
  {
   "cell_type": "code",
   "execution_count": 28,
   "metadata": {},
   "outputs": [
    {
     "name": "stdout",
     "output_type": "stream",
     "text": [
      "the\n",
      "the\n",
      "ran\n",
      "man\n",
      "the\n",
      "ran\n",
      "the\n",
      "ran\n",
      "man\n"
     ]
    },
    {
     "data": {
      "text/plain": [
       "['the', 'man', 'ran']"
      ]
     },
     "execution_count": 28,
     "metadata": {},
     "output_type": "execute_result"
    }
   ],
   "source": [
    "word_split('themanran',['the','ran','man'])"
   ]
  },
  {
   "cell_type": "markdown",
   "metadata": {},
   "source": [
    "# Reverse a string"
   ]
  },
  {
   "cell_type": "code",
   "execution_count": 40,
   "metadata": {},
   "outputs": [],
   "source": [
    "def string_reverse(s):\n",
    "    \n",
    "    if len(s) == 1:\n",
    "        return s\n",
    "    \n",
    "    else:\n",
    "        return string_reverse(s[1:]) + s[0]"
   ]
  },
  {
   "cell_type": "code",
   "execution_count": 41,
   "metadata": {},
   "outputs": [
    {
     "data": {
      "text/plain": [
       "'dlrow olleh'"
      ]
     },
     "execution_count": 41,
     "metadata": {},
     "output_type": "execute_result"
    }
   ],
   "source": [
    "string_reverse('hello world')"
   ]
  },
  {
   "cell_type": "markdown",
   "metadata": {},
   "source": [
    "# String permutation\n",
    "\n",
    "s = 'abc' ['abc', 'acb', 'bca', 'bac', 'cab', 'cba']"
   ]
  },
  {
   "cell_type": "code",
   "execution_count": 42,
   "metadata": {},
   "outputs": [],
   "source": [
    "s = 'abc'"
   ]
  },
  {
   "cell_type": "code",
   "execution_count": 50,
   "metadata": {},
   "outputs": [],
   "source": [
    "def permute(s):\n",
    "    out = []\n",
    "    print(out)\n",
    "    if len(s) == 1:\n",
    "        out = [s]\n",
    "    else:\n",
    "        for i, let in enumerate(s):\n",
    "            \n",
    "            for perm in permute(s[:i] + s[i+1:]):\n",
    "                out += [let+perm]\n",
    "                print(out)\n",
    "    return out\n",
    "                "
   ]
  },
  {
   "cell_type": "code",
   "execution_count": 51,
   "metadata": {},
   "outputs": [
    {
     "name": "stdout",
     "output_type": "stream",
     "text": [
      "[]\n",
      "[]\n",
      "[]\n",
      "['bc']\n",
      "[]\n",
      "['bc', 'cb']\n",
      "['abc']\n",
      "['abc', 'acb']\n",
      "[]\n",
      "[]\n",
      "['ac']\n",
      "[]\n",
      "['ac', 'ca']\n",
      "['abc', 'acb', 'bac']\n",
      "['abc', 'acb', 'bac', 'bca']\n",
      "[]\n",
      "[]\n",
      "['ab']\n",
      "[]\n",
      "['ab', 'ba']\n",
      "['abc', 'acb', 'bac', 'bca', 'cab']\n",
      "['abc', 'acb', 'bac', 'bca', 'cab', 'cba']\n"
     ]
    },
    {
     "data": {
      "text/plain": [
       "['abc', 'acb', 'bac', 'bca', 'cab', 'cba']"
      ]
     },
     "execution_count": 51,
     "metadata": {},
     "output_type": "execute_result"
    }
   ],
   "source": [
    "permute('abc')"
   ]
  },
  {
   "cell_type": "markdown",
   "metadata": {},
   "source": [
    "# Fibonnaci Sequence"
   ]
  },
  {
   "cell_type": "code",
   "execution_count": 52,
   "metadata": {},
   "outputs": [],
   "source": [
    "def fib_rec(n):\n",
    "    \n",
    "    if n == 0 or n == 1:\n",
    "        return n\n",
    "    else:\n",
    "        return fib_rec(n-1) + fib_rec(n-2)"
   ]
  },
  {
   "cell_type": "code",
   "execution_count": 127,
   "metadata": {},
   "outputs": [
    {
     "name": "stdout",
     "output_type": "stream",
     "text": [
      "CPU times: user 4 µs, sys: 1e+03 ns, total: 5 µs\n",
      "Wall time: 9.06 µs\n"
     ]
    },
    {
     "data": {
      "text/plain": [
       "6765"
      ]
     },
     "execution_count": 127,
     "metadata": {},
     "output_type": "execute_result"
    }
   ],
   "source": [
    "%time\n",
    "fib_rec(20)\n"
   ]
  },
  {
   "cell_type": "code",
   "execution_count": 128,
   "metadata": {},
   "outputs": [
    {
     "name": "stdout",
     "output_type": "stream",
     "text": [
      "26.4 ns ± 1.13 ns per loop (mean ± std. dev. of 7 runs, 10000000 loops each)\n"
     ]
    }
   ],
   "source": [
    "%timeit fib_rec"
   ]
  },
  {
   "cell_type": "code",
   "execution_count": 129,
   "metadata": {},
   "outputs": [],
   "source": [
    "memo = {}\n",
    "def fib_memo(n):\n",
    "    \n",
    "    if n in memo:\n",
    "        return memo[n]\n",
    "    else:\n",
    "        if n == 1 or n == 2:\n",
    "            value = 1\n",
    "        else:\n",
    "            value = fib_memo(n-1) + fib_memo(n-2)\n",
    "    memo[n] = value\n",
    "    return memo[n]\n",
    "    "
   ]
  },
  {
   "cell_type": "code",
   "execution_count": 130,
   "metadata": {},
   "outputs": [
    {
     "name": "stdout",
     "output_type": "stream",
     "text": [
      "CPU times: user 5 µs, sys: 1 µs, total: 6 µs\n",
      "Wall time: 11.7 µs\n"
     ]
    },
    {
     "data": {
      "text/plain": [
       "832040"
      ]
     },
     "execution_count": 130,
     "metadata": {},
     "output_type": "execute_result"
    }
   ],
   "source": [
    "%time\n",
    "fib_memo(30)"
   ]
  },
  {
   "cell_type": "code",
   "execution_count": 107,
   "metadata": {},
   "outputs": [
    {
     "name": "stdout",
     "output_type": "stream",
     "text": [
      "26 ns ± 0.685 ns per loop (mean ± std. dev. of 7 runs, 10000000 loops each)\n"
     ]
    }
   ],
   "source": [
    "%timeit fib_memo"
   ]
  },
  {
   "cell_type": "code",
   "execution_count": 101,
   "metadata": {},
   "outputs": [],
   "source": [
    "def fib_iter(n):\n",
    "    a = 0\n",
    "    b = 1\n",
    "    \n",
    "    for i in range(n):\n",
    "        a, b = b, a+b  \n",
    "    return a"
   ]
  },
  {
   "cell_type": "code",
   "execution_count": 108,
   "metadata": {},
   "outputs": [
    {
     "data": {
      "text/plain": [
       "354224848179261915075"
      ]
     },
     "execution_count": 108,
     "metadata": {},
     "output_type": "execute_result"
    }
   ],
   "source": [
    "fib_iter(100)"
   ]
  },
  {
   "cell_type": "code",
   "execution_count": 109,
   "metadata": {},
   "outputs": [
    {
     "name": "stdout",
     "output_type": "stream",
     "text": [
      "28.9 ns ± 1.21 ns per loop (mean ± std. dev. of 7 runs, 10000000 loops each)\n"
     ]
    }
   ],
   "source": [
    "%timeit fib_iter"
   ]
  },
  {
   "cell_type": "markdown",
   "metadata": {},
   "source": [
    "# Coin change problem"
   ]
  },
  {
   "cell_type": "code",
   "execution_count": 145,
   "metadata": {},
   "outputs": [],
   "source": [
    "def coin_change_rec(coinValueList, change):\n",
    "    \n",
    "    target = change\n",
    "    min_count = change\n",
    "    \n",
    "    # base case\n",
    "    if target in coinValueList:\n",
    "        return 1\n",
    "    else:\n",
    "        for i in [c for c in coinValueList if c <= target]:\n",
    "            count = 1 + coin_change_rec(coinValueList, target-i)\n",
    "            if count < min_count:\n",
    "                min_count = count \n",
    "                \n",
    "    return min_count\n",
    "            "
   ]
  },
  {
   "cell_type": "code",
   "execution_count": 147,
   "metadata": {},
   "outputs": [
    {
     "data": {
      "text/plain": [
       "6"
      ]
     },
     "execution_count": 147,
     "metadata": {},
     "output_type": "execute_result"
    }
   ],
   "source": [
    "coin_change_rec([1,5,10,25],63)"
   ]
  },
  {
   "cell_type": "code",
   "execution_count": 148,
   "metadata": {},
   "outputs": [
    {
     "name": "stdout",
     "output_type": "stream",
     "text": [
      "31.8 ns ± 3.26 ns per loop (mean ± std. dev. of 7 runs, 10000000 loops each)\n"
     ]
    }
   ],
   "source": [
    "%timeit coin_change_rec"
   ]
  },
  {
   "cell_type": "code",
   "execution_count": 151,
   "metadata": {},
   "outputs": [],
   "source": [
    "def coin_change_memo(coinValueList, change, knownResults):\n",
    "    \n",
    "    target = change\n",
    "    min_count = change\n",
    "    \n",
    "    # base case\n",
    "    if target in coinValueList:\n",
    "        knownResults[target] = 1\n",
    "        return 1\n",
    "    elif target in knowResults and knownResults[target] > 0:\n",
    "        return knownResults[target]\n",
    "    else:\n",
    "        for i in [c for c in coinValueList if c <= target]:\n",
    "            count = 1 + coin_change_rec(coinValueList, target-i)\n",
    "            if count < min_count:\n",
    "                min_count = count\n",
    "                knownResults[target] = count\n",
    "                \n",
    "    return min_count"
   ]
  },
  {
   "cell_type": "code",
   "execution_count": 155,
   "metadata": {},
   "outputs": [
    {
     "data": {
      "text/plain": [
       "6"
      ]
     },
     "execution_count": 155,
     "metadata": {},
     "output_type": "execute_result"
    }
   ],
   "source": [
    "memo = {}\n",
    "coin_change_memo([1,5,10,25],63, memo)"
   ]
  },
  {
   "cell_type": "code",
   "execution_count": 156,
   "metadata": {},
   "outputs": [
    {
     "name": "stdout",
     "output_type": "stream",
     "text": [
      "28.2 ns ± 1.29 ns per loop (mean ± std. dev. of 7 runs, 10000000 loops each)\n"
     ]
    }
   ],
   "source": [
    "%timeit coin_change_memo"
   ]
  },
  {
   "cell_type": "code",
   "execution_count": 5,
   "metadata": {},
   "outputs": [
    {
     "name": "stdout",
     "output_type": "stream",
     "text": [
      "min # coins: 2\n",
      "3\n",
      "3\n"
     ]
    }
   ],
   "source": [
    "def coin_change_dyn(coinValueList, change, minCoin, CoinUsed):\n",
    "    for cents in range(change+1):\n",
    "        CoinCount = change\n",
    "        newCoin = 1\n",
    "        for coin in [c for c in coinValueList if c <= cents]:\n",
    "            if minCoin[cents - coin] + 1 < CoinCount:\n",
    "                newCoin = coin\n",
    "                CoinCount = minCoin[cents - coin] + 1\n",
    "            minCoin[cents] = CoinCount\n",
    "            CoinUsed[cents] = newCoin\n",
    "        \n",
    "    return minCoin[change]\n",
    "    \n",
    "            \n",
    "def printCoins(coinUsed, change):\n",
    "    coin = change\n",
    "    while coin > 0:\n",
    "        thisCoin = coinUsed[coin]\n",
    "        print(thisCoin)\n",
    "        coin = coin - thisCoin\n",
    "        \n",
    "def main():\n",
    "#     change = 63\n",
    "#     clist = [1,5,10,25]\n",
    "    change = 6\n",
    "    clist = [1,3,4]\n",
    "    minCoin = [0]*(change+1)\n",
    "    CoinUsed = [0]*(change+1)\n",
    "    min = coin_change_dyn(clist, change, minCoin, CoinUsed)\n",
    "    print('min # coins:', min)\n",
    "    printCoins(CoinUsed, change)\n",
    "    \n",
    "main()"
   ]
  },
  {
   "cell_type": "code",
   "execution_count": null,
   "metadata": {},
   "outputs": [],
   "source": []
  },
  {
   "cell_type": "code",
   "execution_count": null,
   "metadata": {},
   "outputs": [],
   "source": []
  }
 ],
 "metadata": {
  "kernelspec": {
   "display_name": "Python 3",
   "language": "python",
   "name": "python3"
  },
  "language_info": {
   "codemirror_mode": {
    "name": "ipython",
    "version": 3
   },
   "file_extension": ".py",
   "mimetype": "text/x-python",
   "name": "python",
   "nbconvert_exporter": "python",
   "pygments_lexer": "ipython3",
   "version": "3.7.0"
  }
 },
 "nbformat": 4,
 "nbformat_minor": 2
}
